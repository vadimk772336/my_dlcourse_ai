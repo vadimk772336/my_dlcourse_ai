{
 "cells": [
  {
   "cell_type": "markdown",
   "metadata": {},
   "source": [
    "## Pretrained models"
   ]
  },
  {
   "cell_type": "markdown",
   "metadata": {},
   "source": [
    "### Torchvision\n",
    "\n",
    "[torchvision](https://github.com/pytorch/vision) - библиотека, содержащая популярные CV датасеты, утилиты для препроцессинга и, самое важное, pre-trained модели для классификации, обученные на [ImageNet](http://image-net.org/).\n",
    "\n",
    "Большая часть потребностей покрывается имеющимися моделями, но если нужна какая-то другая архитектура или нужно решать задачу, отличную от классификации, то хорошую реализацию и веса, скорее всего, получится нагуглить или найти на github"
   ]
  },
  {
   "cell_type": "code",
   "execution_count": 1,
   "metadata": {},
   "outputs": [],
   "source": [
    "import os\n",
    "\n",
    "os.environ['CUDA_VISIBLE_DEVICES'] = '7'"
   ]
  },
  {
   "cell_type": "code",
   "execution_count": 2,
   "metadata": {},
   "outputs": [],
   "source": [
    "import os\n",
    "from pathlib import Path\n",
    "from copy import deepcopy\n",
    "from collections import defaultdict\n",
    "\n",
    "import numpy as np\n",
    "import matplotlib.pyplot as plt\n",
    "import PIL.Image as Image\n",
    "import torchvision\n",
    "import torch\n",
    "import torch.nn as nn\n",
    "import tqdm\n",
    "from sklearn.model_selection import train_test_split\n",
    "from sklearn.ensemble import RandomForestClassifier\n",
    "from sklearn.metrics import roc_curve, roc_auc_score\n",
    "\n",
    "%matplotlib inline"
   ]
  },
  {
   "cell_type": "code",
   "execution_count": 3,
   "metadata": {},
   "outputs": [
    {
     "data": {
      "text/plain": [
       "ResNet(\n",
       "  (conv1): Conv2d(3, 64, kernel_size=(7, 7), stride=(2, 2), padding=(3, 3), bias=False)\n",
       "  (bn1): BatchNorm2d(64, eps=1e-05, momentum=0.1, affine=True, track_running_stats=True)\n",
       "  (relu): ReLU(inplace=True)\n",
       "  (maxpool): MaxPool2d(kernel_size=3, stride=2, padding=1, dilation=1, ceil_mode=False)\n",
       "  (layer1): Sequential(\n",
       "    (0): Bottleneck(\n",
       "      (conv1): Conv2d(64, 64, kernel_size=(1, 1), stride=(1, 1), bias=False)\n",
       "      (bn1): BatchNorm2d(64, eps=1e-05, momentum=0.1, affine=True, track_running_stats=True)\n",
       "      (conv2): Conv2d(64, 64, kernel_size=(3, 3), stride=(1, 1), padding=(1, 1), bias=False)\n",
       "      (bn2): BatchNorm2d(64, eps=1e-05, momentum=0.1, affine=True, track_running_stats=True)\n",
       "      (conv3): Conv2d(64, 256, kernel_size=(1, 1), stride=(1, 1), bias=False)\n",
       "      (bn3): BatchNorm2d(256, eps=1e-05, momentum=0.1, affine=True, track_running_stats=True)\n",
       "      (relu): ReLU(inplace=True)\n",
       "      (downsample): Sequential(\n",
       "        (0): Conv2d(64, 256, kernel_size=(1, 1), stride=(1, 1), bias=False)\n",
       "        (1): BatchNorm2d(256, eps=1e-05, momentum=0.1, affine=True, track_running_stats=True)\n",
       "      )\n",
       "    )\n",
       "    (1): Bottleneck(\n",
       "      (conv1): Conv2d(256, 64, kernel_size=(1, 1), stride=(1, 1), bias=False)\n",
       "      (bn1): BatchNorm2d(64, eps=1e-05, momentum=0.1, affine=True, track_running_stats=True)\n",
       "      (conv2): Conv2d(64, 64, kernel_size=(3, 3), stride=(1, 1), padding=(1, 1), bias=False)\n",
       "      (bn2): BatchNorm2d(64, eps=1e-05, momentum=0.1, affine=True, track_running_stats=True)\n",
       "      (conv3): Conv2d(64, 256, kernel_size=(1, 1), stride=(1, 1), bias=False)\n",
       "      (bn3): BatchNorm2d(256, eps=1e-05, momentum=0.1, affine=True, track_running_stats=True)\n",
       "      (relu): ReLU(inplace=True)\n",
       "    )\n",
       "    (2): Bottleneck(\n",
       "      (conv1): Conv2d(256, 64, kernel_size=(1, 1), stride=(1, 1), bias=False)\n",
       "      (bn1): BatchNorm2d(64, eps=1e-05, momentum=0.1, affine=True, track_running_stats=True)\n",
       "      (conv2): Conv2d(64, 64, kernel_size=(3, 3), stride=(1, 1), padding=(1, 1), bias=False)\n",
       "      (bn2): BatchNorm2d(64, eps=1e-05, momentum=0.1, affine=True, track_running_stats=True)\n",
       "      (conv3): Conv2d(64, 256, kernel_size=(1, 1), stride=(1, 1), bias=False)\n",
       "      (bn3): BatchNorm2d(256, eps=1e-05, momentum=0.1, affine=True, track_running_stats=True)\n",
       "      (relu): ReLU(inplace=True)\n",
       "    )\n",
       "  )\n",
       "  (layer2): Sequential(\n",
       "    (0): Bottleneck(\n",
       "      (conv1): Conv2d(256, 128, kernel_size=(1, 1), stride=(1, 1), bias=False)\n",
       "      (bn1): BatchNorm2d(128, eps=1e-05, momentum=0.1, affine=True, track_running_stats=True)\n",
       "      (conv2): Conv2d(128, 128, kernel_size=(3, 3), stride=(2, 2), padding=(1, 1), bias=False)\n",
       "      (bn2): BatchNorm2d(128, eps=1e-05, momentum=0.1, affine=True, track_running_stats=True)\n",
       "      (conv3): Conv2d(128, 512, kernel_size=(1, 1), stride=(1, 1), bias=False)\n",
       "      (bn3): BatchNorm2d(512, eps=1e-05, momentum=0.1, affine=True, track_running_stats=True)\n",
       "      (relu): ReLU(inplace=True)\n",
       "      (downsample): Sequential(\n",
       "        (0): Conv2d(256, 512, kernel_size=(1, 1), stride=(2, 2), bias=False)\n",
       "        (1): BatchNorm2d(512, eps=1e-05, momentum=0.1, affine=True, track_running_stats=True)\n",
       "      )\n",
       "    )\n",
       "    (1): Bottleneck(\n",
       "      (conv1): Conv2d(512, 128, kernel_size=(1, 1), stride=(1, 1), bias=False)\n",
       "      (bn1): BatchNorm2d(128, eps=1e-05, momentum=0.1, affine=True, track_running_stats=True)\n",
       "      (conv2): Conv2d(128, 128, kernel_size=(3, 3), stride=(1, 1), padding=(1, 1), bias=False)\n",
       "      (bn2): BatchNorm2d(128, eps=1e-05, momentum=0.1, affine=True, track_running_stats=True)\n",
       "      (conv3): Conv2d(128, 512, kernel_size=(1, 1), stride=(1, 1), bias=False)\n",
       "      (bn3): BatchNorm2d(512, eps=1e-05, momentum=0.1, affine=True, track_running_stats=True)\n",
       "      (relu): ReLU(inplace=True)\n",
       "    )\n",
       "    (2): Bottleneck(\n",
       "      (conv1): Conv2d(512, 128, kernel_size=(1, 1), stride=(1, 1), bias=False)\n",
       "      (bn1): BatchNorm2d(128, eps=1e-05, momentum=0.1, affine=True, track_running_stats=True)\n",
       "      (conv2): Conv2d(128, 128, kernel_size=(3, 3), stride=(1, 1), padding=(1, 1), bias=False)\n",
       "      (bn2): BatchNorm2d(128, eps=1e-05, momentum=0.1, affine=True, track_running_stats=True)\n",
       "      (conv3): Conv2d(128, 512, kernel_size=(1, 1), stride=(1, 1), bias=False)\n",
       "      (bn3): BatchNorm2d(512, eps=1e-05, momentum=0.1, affine=True, track_running_stats=True)\n",
       "      (relu): ReLU(inplace=True)\n",
       "    )\n",
       "    (3): Bottleneck(\n",
       "      (conv1): Conv2d(512, 128, kernel_size=(1, 1), stride=(1, 1), bias=False)\n",
       "      (bn1): BatchNorm2d(128, eps=1e-05, momentum=0.1, affine=True, track_running_stats=True)\n",
       "      (conv2): Conv2d(128, 128, kernel_size=(3, 3), stride=(1, 1), padding=(1, 1), bias=False)\n",
       "      (bn2): BatchNorm2d(128, eps=1e-05, momentum=0.1, affine=True, track_running_stats=True)\n",
       "      (conv3): Conv2d(128, 512, kernel_size=(1, 1), stride=(1, 1), bias=False)\n",
       "      (bn3): BatchNorm2d(512, eps=1e-05, momentum=0.1, affine=True, track_running_stats=True)\n",
       "      (relu): ReLU(inplace=True)\n",
       "    )\n",
       "  )\n",
       "  (layer3): Sequential(\n",
       "    (0): Bottleneck(\n",
       "      (conv1): Conv2d(512, 256, kernel_size=(1, 1), stride=(1, 1), bias=False)\n",
       "      (bn1): BatchNorm2d(256, eps=1e-05, momentum=0.1, affine=True, track_running_stats=True)\n",
       "      (conv2): Conv2d(256, 256, kernel_size=(3, 3), stride=(2, 2), padding=(1, 1), bias=False)\n",
       "      (bn2): BatchNorm2d(256, eps=1e-05, momentum=0.1, affine=True, track_running_stats=True)\n",
       "      (conv3): Conv2d(256, 1024, kernel_size=(1, 1), stride=(1, 1), bias=False)\n",
       "      (bn3): BatchNorm2d(1024, eps=1e-05, momentum=0.1, affine=True, track_running_stats=True)\n",
       "      (relu): ReLU(inplace=True)\n",
       "      (downsample): Sequential(\n",
       "        (0): Conv2d(512, 1024, kernel_size=(1, 1), stride=(2, 2), bias=False)\n",
       "        (1): BatchNorm2d(1024, eps=1e-05, momentum=0.1, affine=True, track_running_stats=True)\n",
       "      )\n",
       "    )\n",
       "    (1): Bottleneck(\n",
       "      (conv1): Conv2d(1024, 256, kernel_size=(1, 1), stride=(1, 1), bias=False)\n",
       "      (bn1): BatchNorm2d(256, eps=1e-05, momentum=0.1, affine=True, track_running_stats=True)\n",
       "      (conv2): Conv2d(256, 256, kernel_size=(3, 3), stride=(1, 1), padding=(1, 1), bias=False)\n",
       "      (bn2): BatchNorm2d(256, eps=1e-05, momentum=0.1, affine=True, track_running_stats=True)\n",
       "      (conv3): Conv2d(256, 1024, kernel_size=(1, 1), stride=(1, 1), bias=False)\n",
       "      (bn3): BatchNorm2d(1024, eps=1e-05, momentum=0.1, affine=True, track_running_stats=True)\n",
       "      (relu): ReLU(inplace=True)\n",
       "    )\n",
       "    (2): Bottleneck(\n",
       "      (conv1): Conv2d(1024, 256, kernel_size=(1, 1), stride=(1, 1), bias=False)\n",
       "      (bn1): BatchNorm2d(256, eps=1e-05, momentum=0.1, affine=True, track_running_stats=True)\n",
       "      (conv2): Conv2d(256, 256, kernel_size=(3, 3), stride=(1, 1), padding=(1, 1), bias=False)\n",
       "      (bn2): BatchNorm2d(256, eps=1e-05, momentum=0.1, affine=True, track_running_stats=True)\n",
       "      (conv3): Conv2d(256, 1024, kernel_size=(1, 1), stride=(1, 1), bias=False)\n",
       "      (bn3): BatchNorm2d(1024, eps=1e-05, momentum=0.1, affine=True, track_running_stats=True)\n",
       "      (relu): ReLU(inplace=True)\n",
       "    )\n",
       "    (3): Bottleneck(\n",
       "      (conv1): Conv2d(1024, 256, kernel_size=(1, 1), stride=(1, 1), bias=False)\n",
       "      (bn1): BatchNorm2d(256, eps=1e-05, momentum=0.1, affine=True, track_running_stats=True)\n",
       "      (conv2): Conv2d(256, 256, kernel_size=(3, 3), stride=(1, 1), padding=(1, 1), bias=False)\n",
       "      (bn2): BatchNorm2d(256, eps=1e-05, momentum=0.1, affine=True, track_running_stats=True)\n",
       "      (conv3): Conv2d(256, 1024, kernel_size=(1, 1), stride=(1, 1), bias=False)\n",
       "      (bn3): BatchNorm2d(1024, eps=1e-05, momentum=0.1, affine=True, track_running_stats=True)\n",
       "      (relu): ReLU(inplace=True)\n",
       "    )\n",
       "    (4): Bottleneck(\n",
       "      (conv1): Conv2d(1024, 256, kernel_size=(1, 1), stride=(1, 1), bias=False)\n",
       "      (bn1): BatchNorm2d(256, eps=1e-05, momentum=0.1, affine=True, track_running_stats=True)\n",
       "      (conv2): Conv2d(256, 256, kernel_size=(3, 3), stride=(1, 1), padding=(1, 1), bias=False)\n",
       "      (bn2): BatchNorm2d(256, eps=1e-05, momentum=0.1, affine=True, track_running_stats=True)\n",
       "      (conv3): Conv2d(256, 1024, kernel_size=(1, 1), stride=(1, 1), bias=False)\n",
       "      (bn3): BatchNorm2d(1024, eps=1e-05, momentum=0.1, affine=True, track_running_stats=True)\n",
       "      (relu): ReLU(inplace=True)\n",
       "    )\n",
       "    (5): Bottleneck(\n",
       "      (conv1): Conv2d(1024, 256, kernel_size=(1, 1), stride=(1, 1), bias=False)\n",
       "      (bn1): BatchNorm2d(256, eps=1e-05, momentum=0.1, affine=True, track_running_stats=True)\n",
       "      (conv2): Conv2d(256, 256, kernel_size=(3, 3), stride=(1, 1), padding=(1, 1), bias=False)\n",
       "      (bn2): BatchNorm2d(256, eps=1e-05, momentum=0.1, affine=True, track_running_stats=True)\n",
       "      (conv3): Conv2d(256, 1024, kernel_size=(1, 1), stride=(1, 1), bias=False)\n",
       "      (bn3): BatchNorm2d(1024, eps=1e-05, momentum=0.1, affine=True, track_running_stats=True)\n",
       "      (relu): ReLU(inplace=True)\n",
       "    )\n",
       "  )\n",
       "  (layer4): Sequential(\n",
       "    (0): Bottleneck(\n",
       "      (conv1): Conv2d(1024, 512, kernel_size=(1, 1), stride=(1, 1), bias=False)\n",
       "      (bn1): BatchNorm2d(512, eps=1e-05, momentum=0.1, affine=True, track_running_stats=True)\n",
       "      (conv2): Conv2d(512, 512, kernel_size=(3, 3), stride=(2, 2), padding=(1, 1), bias=False)\n",
       "      (bn2): BatchNorm2d(512, eps=1e-05, momentum=0.1, affine=True, track_running_stats=True)\n",
       "      (conv3): Conv2d(512, 2048, kernel_size=(1, 1), stride=(1, 1), bias=False)\n",
       "      (bn3): BatchNorm2d(2048, eps=1e-05, momentum=0.1, affine=True, track_running_stats=True)\n",
       "      (relu): ReLU(inplace=True)\n",
       "      (downsample): Sequential(\n",
       "        (0): Conv2d(1024, 2048, kernel_size=(1, 1), stride=(2, 2), bias=False)\n",
       "        (1): BatchNorm2d(2048, eps=1e-05, momentum=0.1, affine=True, track_running_stats=True)\n",
       "      )\n",
       "    )\n",
       "    (1): Bottleneck(\n",
       "      (conv1): Conv2d(2048, 512, kernel_size=(1, 1), stride=(1, 1), bias=False)\n",
       "      (bn1): BatchNorm2d(512, eps=1e-05, momentum=0.1, affine=True, track_running_stats=True)\n",
       "      (conv2): Conv2d(512, 512, kernel_size=(3, 3), stride=(1, 1), padding=(1, 1), bias=False)\n",
       "      (bn2): BatchNorm2d(512, eps=1e-05, momentum=0.1, affine=True, track_running_stats=True)\n",
       "      (conv3): Conv2d(512, 2048, kernel_size=(1, 1), stride=(1, 1), bias=False)\n",
       "      (bn3): BatchNorm2d(2048, eps=1e-05, momentum=0.1, affine=True, track_running_stats=True)\n",
       "      (relu): ReLU(inplace=True)\n",
       "    )\n",
       "    (2): Bottleneck(\n",
       "      (conv1): Conv2d(2048, 512, kernel_size=(1, 1), stride=(1, 1), bias=False)\n",
       "      (bn1): BatchNorm2d(512, eps=1e-05, momentum=0.1, affine=True, track_running_stats=True)\n",
       "      (conv2): Conv2d(512, 512, kernel_size=(3, 3), stride=(1, 1), padding=(1, 1), bias=False)\n",
       "      (bn2): BatchNorm2d(512, eps=1e-05, momentum=0.1, affine=True, track_running_stats=True)\n",
       "      (conv3): Conv2d(512, 2048, kernel_size=(1, 1), stride=(1, 1), bias=False)\n",
       "      (bn3): BatchNorm2d(2048, eps=1e-05, momentum=0.1, affine=True, track_running_stats=True)\n",
       "      (relu): ReLU(inplace=True)\n",
       "    )\n",
       "  )\n",
       "  (avgpool): AdaptiveAvgPool2d(output_size=(1, 1))\n",
       "  (fc): Linear(in_features=2048, out_features=1000, bias=True)\n",
       ")"
      ]
     },
     "execution_count": 3,
     "metadata": {},
     "output_type": "execute_result"
    }
   ],
   "source": [
    "model = torchvision.models.resnet50(pretrained=True)\n",
    "model.train(False)"
   ]
  },
  {
   "cell_type": "markdown",
   "metadata": {},
   "source": [
    "## Transfer learning"
   ]
  },
  {
   "cell_type": "markdown",
   "metadata": {},
   "source": [
    "### Как достать признаки?\n",
    "\n",
    "- переопределить последний слой так, чтобы он ничего не делал (неплохой вариант, но что, если нужны признаки из внутрненнего слоя?)\n",
    "- написать хук, который будет возвращать признаки (хороший вариант)\n",
    "- покромсать сетку и делать forward pass только для тех слоев, которые нужны (плохой вариант)\n"
   ]
  },
  {
   "cell_type": "markdown",
   "metadata": {},
   "source": [
    "#### Способ 1. Переопределить последний слой\n",
    "\n",
    "***ВНИМАНИЕ 1:*** Серьезная проблема `torchvision` - отсутствие единого интерфейса у моделей. В каждой реализации слои имеют разные имена и при единовременной работе с разными моделями приходится писать обвязку из условий. Если использовать реализации других архитектур, то ситуация только ухудшается\n",
    "\n",
    "***ВНИМАНИЕ 2:*** В отличие от **Keras**, в **PyTorch** не принято делать последним слоем активацию. Нужная функция применяется при написании train / inference кода"
   ]
  },
  {
   "cell_type": "code",
   "execution_count": 4,
   "metadata": {},
   "outputs": [],
   "source": [
    "model = torchvision.models.resnet50(pretrained=True)\n",
    "features_model = deepcopy(model)\n",
    "\n",
    "features_model.fc = nn.Identity()\n",
    "\n",
    "dummy_x = torch.randn(1, 3, 224, 224)\n",
    "features = features_model(dummy_x)\n",
    "features_shape = features.data.numpy().shape\n",
    "assert features_shape == (1, 2048), 'expected (1, 2048), but real is {}'.format(features_shape)"
   ]
  },
  {
   "cell_type": "markdown",
   "metadata": {},
   "source": [
    "#### Способ 2. Forward hook"
   ]
  },
  {
   "cell_type": "code",
   "execution_count": 5,
   "metadata": {},
   "outputs": [
    {
     "data": {
      "text/plain": [
       "<torch.utils.hooks.RemovableHandle at 0x2aab8cf050f0>"
      ]
     },
     "execution_count": 5,
     "metadata": {},
     "output_type": "execute_result"
    },
    {
     "data": {
      "text/plain": [
       "tensor([[-9.9639e-01, -3.5620e-01, -5.4927e-01, -1.1321e+00, -6.1480e-01,\n",
       "         -3.0801e-01, -7.8674e-01,  4.7470e-01,  2.0920e-01, -5.3878e-01,\n",
       "         -7.5800e-01, -8.1716e-01, -3.5546e-01, -7.6188e-01, -7.8857e-01,\n",
       "         -2.1343e-01, -5.8919e-01, -1.0711e-01, -2.9439e-02, -4.0059e-01,\n",
       "         -9.9207e-01, -6.2346e-01, -1.1495e+00, -2.3744e-02, -7.6257e-01,\n",
       "         -6.6946e-01, -7.6003e-01, -6.1467e-01, -5.4146e-01, -5.7744e-01,\n",
       "         -6.5179e-01, -8.3131e-01, -5.9012e-01, -3.8707e-01, -8.7791e-02,\n",
       "         -4.2141e-01,  7.8128e-01, -4.2688e-01, -3.4995e-01,  2.7546e-01,\n",
       "         -5.4929e-01, -5.5651e-01, -5.9523e-01, -1.8528e-01, -2.0560e-01,\n",
       "         -2.5315e-01, -5.1025e-01, -3.5744e-01, -9.8034e-01, -5.7702e-01,\n",
       "         -2.3869e-01,  4.8123e-01, -3.2483e-01, -3.1035e-01, -1.7122e-01,\n",
       "         -9.0604e-01, -3.9869e-01, -9.1392e-01, -1.3031e-01, -1.1294e-01,\n",
       "          6.8305e-01,  8.8471e-02,  4.0220e-02, -2.3483e-03, -6.1643e-01,\n",
       "         -2.2955e-01, -3.2423e-01, -2.0411e-01, -6.4038e-01, -5.5902e-01,\n",
       "         -1.1472e+00,  1.2112e-01, -1.2414e+00, -3.9418e-01, -7.5371e-01,\n",
       "         -8.1919e-01,  8.5556e-02, -2.2674e-01,  4.2353e-01,  1.4975e-01,\n",
       "         -7.8721e-01, -1.4218e+00,  1.9464e-01, -5.5930e-01, -4.7388e-01,\n",
       "         -6.2277e-02,  1.8472e-01,  3.6805e-01,  1.2594e-01, -3.4853e-01,\n",
       "         -5.8490e-01, -9.3887e-01, -1.2318e+00, -1.7024e-01,  1.1289e-01,\n",
       "         -1.3252e+00, -3.3186e-01, -4.4623e-01, -1.0258e+00, -4.0085e-01,\n",
       "         -8.6760e-01, -5.6884e-01, -6.3167e-01, -3.7510e-01, -1.7025e-01,\n",
       "         -8.0566e-01, -4.2753e-01, -1.1960e+00, -9.0963e-01, -1.1551e+00,\n",
       "         -1.2458e+00, -6.8559e-01,  9.1659e-01,  4.2134e-01,  4.4726e-01,\n",
       "         -1.4538e+00, -7.5157e-01, -3.9826e-01,  4.8096e-01, -1.1059e-01,\n",
       "         -6.1267e-01, -1.6978e-01,  2.7516e-01,  1.0468e-01,  8.5151e-01,\n",
       "         -8.1496e-02,  2.4404e-01, -1.1044e+00, -8.8847e-01, -9.6043e-01,\n",
       "         -1.0380e+00, -1.0142e+00, -8.1069e-01, -1.1675e+00, -3.4464e-01,\n",
       "         -9.0274e-01, -6.2015e-01, -9.7611e-01, -1.3434e+00, -1.2499e+00,\n",
       "         -1.1290e+00, -1.1889e+00, -1.7967e+00, -1.1475e+00, -6.1808e-01,\n",
       "         -1.3822e-01, -8.8169e-01, -1.3978e+00, -1.1950e+00, -1.3165e+00,\n",
       "          1.6258e-01,  1.3230e+00, -6.7382e-01, -3.8307e-01,  6.1469e-03,\n",
       "          4.7844e-01, -1.1298e-01,  2.2777e-01,  1.7635e-01,  2.4685e-01,\n",
       "          1.9085e-01,  4.1387e-01,  3.4276e-01,  7.3892e-01,  2.6292e-01,\n",
       "         -2.5254e-01, -1.1513e-01, -4.4391e-01,  4.9537e-01, -5.2075e-02,\n",
       "          1.1609e-02,  8.2005e-01,  3.5893e-01,  3.6324e-01,  1.6195e-01,\n",
       "         -3.9600e-01,  1.2414e-01, -7.4734e-02,  4.9055e-01,  4.0472e-01,\n",
       "          3.0440e-01,  2.6946e-01,  4.7080e-01,  3.1170e-01,  7.1653e-01,\n",
       "          5.9696e-01,  6.5504e-01,  4.0668e-01,  3.1945e-01,  5.7413e-01,\n",
       "         -3.6994e-01,  3.9720e-01,  4.7815e-01,  5.8039e-01, -5.3712e-01,\n",
       "          7.5497e-01,  2.2172e-01,  1.9658e-01,  1.0372e-01,  5.5098e-01,\n",
       "          9.2029e-02,  6.2901e-02,  3.0242e-01,  5.4700e-01,  1.4231e-01,\n",
       "          1.4776e-01, -1.9825e-01,  4.4425e-01,  1.0664e+00,  4.2574e-01,\n",
       "         -2.2334e-01,  4.8390e-01,  3.0454e-01,  1.1422e-01,  2.1174e-01,\n",
       "          2.7797e-01,  2.4595e-01,  2.0396e-01,  5.5736e-02,  3.8369e-01,\n",
       "          3.9140e-01,  3.1621e-02,  7.2900e-02,  6.7638e-01,  2.6181e-01,\n",
       "          4.2913e-01,  1.4912e-01,  7.8214e-01, -4.3399e-01, -8.3806e-02,\n",
       "          1.3018e-01,  6.4064e-01,  3.4779e-01, -1.9309e-01,  6.3165e-01,\n",
       "          5.7503e-01,  5.8657e-01,  3.8610e-01,  6.2363e-01,  2.1135e-01,\n",
       "          3.8821e-01,  1.0320e-01,  5.2578e-01,  2.2697e-01, -1.5660e-01,\n",
       "          2.0665e-01,  1.8156e-01,  1.0982e-01,  4.6249e-01,  1.7653e-01,\n",
       "          5.5554e-01,  9.5254e-01, -5.6347e-01,  7.5538e-01,  8.1479e-01,\n",
       "         -5.4419e-01,  4.7940e-01,  3.0179e-01,  1.7033e-01,  1.9298e-01,\n",
       "         -1.3982e-01, -2.6186e-01, -1.3539e-01,  3.3263e-01,  6.1373e-01,\n",
       "          7.1119e-01,  3.4223e-01,  3.9299e-01,  8.8046e-02, -4.7084e-01,\n",
       "         -6.3703e-01, -6.0592e-01, -2.5085e-01,  8.6629e-01, -8.5994e-01,\n",
       "         -7.8988e-01, -6.5962e-01, -6.4346e-01, -9.2432e-01, -6.2034e-01,\n",
       "          1.8256e-02,  8.0792e-01,  7.4913e-01,  6.1650e-02,  3.6853e-01,\n",
       "          9.0946e-01, -4.4724e-01, -3.1554e-01, -4.6402e-01, -1.2773e+00,\n",
       "         -7.3044e-01, -1.0279e+00, -6.8069e-05, -6.4972e-01, -8.6330e-01,\n",
       "         -6.5717e-01, -9.1214e-01, -1.0848e+00, -3.5680e-01, -1.1830e-01,\n",
       "         -1.1685e+00, -8.2570e-01, -2.0533e-01, -2.7570e-01, -9.4782e-01,\n",
       "         -7.1384e-01,  4.3427e-01, -7.3038e-01, -1.1492e+00, -2.1522e-01,\n",
       "          4.4086e-01, -1.3208e-01, -2.0934e-01,  3.7492e-01,  5.7153e-01,\n",
       "         -5.0304e-01, -9.4195e-01, -1.1541e+00, -9.6122e-01, -2.6266e-01,\n",
       "         -1.0042e+00, -7.1594e-01, -8.6708e-01, -1.2140e+00, -1.0258e+00,\n",
       "         -1.1577e+00, -8.2336e-01,  1.0250e-01, -3.0062e-01, -7.5740e-01,\n",
       "          1.9286e-01,  1.9669e-01,  6.2419e-02,  1.0495e-01, -1.1980e-01,\n",
       "         -4.4725e-01, -1.0867e+00,  1.0727e-01,  2.6481e-01, -9.0958e-01,\n",
       "         -3.9285e-02,  6.7365e-01, -1.6224e-01, -6.5621e-01, -7.7153e-01,\n",
       "          4.2558e-01, -5.0172e-01, -1.2211e+00, -5.6767e-02, -1.0384e+00,\n",
       "         -8.1126e-01, -1.8033e+00, -9.7823e-01, -4.2851e-01, -5.4537e-01,\n",
       "          3.1257e-01,  1.0343e+00,  2.0648e-01,  6.1776e-01,  2.6724e-01,\n",
       "         -1.1290e-01,  2.8403e-01,  4.9586e-02,  2.6004e-01, -3.7744e-01,\n",
       "         -2.1477e-01, -1.1518e+00, -2.2042e-01, -7.6695e-01, -7.0231e-01,\n",
       "         -3.4891e-01, -1.9568e-01, -5.1669e-01,  2.1987e-01, -2.6208e-01,\n",
       "         -6.7990e-01, -1.0100e+00,  1.9954e-01, -1.5772e-01, -5.2417e-01,\n",
       "          3.4017e-01, -4.4135e-01, -3.3384e-03, -4.8971e-01, -6.7635e-01,\n",
       "         -3.4432e-01, -6.8800e-01, -8.7906e-01, -9.2615e-01, -1.8482e-01,\n",
       "          1.1682e-01,  1.7895e-01, -1.2335e+00, -1.6661e+00, -3.7548e-01,\n",
       "          2.2210e-01, -8.0719e-01, -7.6852e-01,  1.2725e-01,  1.3674e-01,\n",
       "         -6.2890e-01,  6.0843e-01,  4.5279e-02, -1.6186e+00, -1.6585e+00,\n",
       "         -6.3604e-01, -3.2120e-01, -4.8574e-01, -3.0864e-01,  1.0660e+00,\n",
       "         -3.8010e-01,  3.7571e-02,  1.3509e+00,  5.6374e-01,  3.3964e-01,\n",
       "          6.8573e-01, -2.9487e-01,  5.6866e-01,  7.8778e-03,  8.0312e-01,\n",
       "          7.3886e-01,  8.5322e-01, -1.5859e-01,  1.7099e-02, -1.3202e-01,\n",
       "         -8.8935e-01,  2.5562e-01,  1.0772e+00,  1.3474e+00,  4.6497e-01,\n",
       "         -3.0773e-01, -4.3442e-01,  2.9950e-01,  3.2404e-01,  5.8295e-01,\n",
       "          7.5036e-01, -6.6103e-02, -4.4991e-01,  2.7335e-01,  1.2764e-01,\n",
       "          8.5922e-01,  2.6641e-02,  8.3635e-03, -4.3878e-01, -3.9104e-01,\n",
       "          2.1727e-01, -5.5615e-02,  1.2945e+00,  7.6289e-01, -7.2957e-01,\n",
       "         -6.1077e-01,  1.8264e-01,  4.4840e-01, -1.8564e-01, -2.2964e-01,\n",
       "          5.6212e-01,  1.1687e+00,  9.6602e-01, -2.1808e-01,  6.0870e-01,\n",
       "         -4.9995e-01,  5.0258e-01,  9.3079e-01,  1.9703e+00,  6.0466e-01,\n",
       "         -3.6435e-01, -1.2561e+00,  3.4302e-02, -1.7185e-01,  1.2929e+00,\n",
       "          6.1990e-01,  4.7611e-01, -2.5958e-02,  2.3090e-01, -2.9473e-01,\n",
       "          1.1171e-01,  2.1381e-01,  2.7710e-01,  6.4269e-01,  4.4787e-01,\n",
       "         -3.1505e-02, -6.6461e-02,  9.3451e-02, -7.9697e-01, -1.1976e+00,\n",
       "         -1.8497e-01, -2.7913e-01,  9.8928e-01,  1.3955e+00,  7.3718e-01,\n",
       "          2.8535e-01,  7.7666e-01,  3.6926e-01, -9.5458e-01,  9.4281e-01,\n",
       "         -1.0251e+00, -3.1516e-01, -3.1453e-01, -3.9749e-01,  6.9214e-01,\n",
       "         -1.3891e+00,  4.5075e-01,  8.3035e-01,  4.3191e-01,  8.8119e-01,\n",
       "          7.5222e-01,  8.1919e-01,  1.7369e-01,  1.3098e-01, -4.6274e-02,\n",
       "         -9.9246e-01, -5.0421e-01,  4.9697e-01,  3.7487e-01,  8.6982e-01,\n",
       "          1.5095e+00,  4.6063e-02,  2.7873e-02,  9.1915e-01,  7.6810e-01,\n",
       "         -7.9124e-01,  1.4045e-01,  7.7806e-01,  1.3604e+00,  1.9556e-01,\n",
       "         -8.3580e-01, -2.4665e-01, -6.7773e-01,  2.7038e-01,  1.2021e-01,\n",
       "          7.8011e-01,  2.2730e-01,  1.0538e-04, -4.8485e-01,  1.1586e-01,\n",
       "         -5.9742e-01, -3.4528e-01, -7.3368e-01, -1.9645e-01,  9.2380e-01,\n",
       "         -7.2863e-01,  1.2698e+00,  7.6948e-01,  3.4982e-01,  3.8769e-01,\n",
       "          8.1229e-01,  3.4757e-01, -1.7122e+00, -1.0197e+00, -2.9368e-01,\n",
       "         -4.4179e-01, -3.7966e-03,  7.7875e-01, -1.4987e-01, -1.0698e+00,\n",
       "         -3.9647e-01,  3.3261e-01,  4.9154e-01,  1.0676e+00,  7.3028e-01,\n",
       "          1.3593e-02,  9.0347e-02,  6.1076e-01, -1.3198e-01, -1.1332e+00,\n",
       "         -6.7785e-01,  3.2361e-01,  8.4261e-01,  2.7133e-01, -3.6333e-01,\n",
       "          9.1768e-01, -1.0065e-01,  6.7971e-01, -1.1189e+00,  7.3173e-01,\n",
       "         -9.4526e-02, -6.3546e-01,  1.0422e+00,  3.1461e-01, -2.1273e-02,\n",
       "          1.8187e-01, -1.3989e-01,  6.1685e-01,  5.4023e-01,  3.6691e-01,\n",
       "          5.7862e-01, -2.2137e-01,  1.3443e+00,  4.2650e-01,  8.3651e-01,\n",
       "         -4.2924e-01,  4.4740e-01, -8.4619e-01,  6.9520e-01,  3.4544e-01,\n",
       "         -5.0413e-01,  1.1578e+00, -2.3983e-01, -5.6116e-01,  7.5289e-01,\n",
       "          1.9645e+00, -5.4591e-02, -1.0708e-01, -2.6847e-01,  3.2859e-01,\n",
       "          2.0442e-01,  8.2230e-01, -1.7858e-01,  6.8719e-01, -1.1965e-01,\n",
       "          6.9958e-01,  4.3516e-01, -1.6632e-01,  1.7172e-01, -9.4329e-02,\n",
       "          6.5508e-02,  8.5083e-01,  5.2362e-01,  1.5623e+00,  5.4453e-01,\n",
       "          7.8991e-01,  7.3809e-01,  2.8434e-01,  2.7210e-01, -1.0504e-01,\n",
       "         -7.3055e-01,  7.0144e-01, -1.7154e-01, -9.7511e-01, -2.5917e-01,\n",
       "         -1.4002e-01,  5.2500e-01,  5.9963e-01,  7.6345e-01,  1.0938e-02,\n",
       "          4.5443e-01,  8.3986e-01,  6.7471e-01,  6.9265e-01,  1.2153e-01,\n",
       "         -1.4322e+00,  1.0042e+00,  1.9601e-01,  1.1511e+00,  4.5634e-01,\n",
       "         -7.2637e-01,  4.3471e-01,  1.2160e-01, -9.6967e-01, -1.1008e+00,\n",
       "          9.1264e-01, -1.4790e-01,  7.4997e-01,  7.6133e-01, -8.6207e-02,\n",
       "          6.4080e-01,  9.6305e-02,  1.7869e-02,  1.2983e-03,  3.7563e-01,\n",
       "         -1.3367e-01, -8.0353e-01, -5.1512e-01, -1.0832e+00,  4.8794e-01,\n",
       "         -5.4871e-02,  1.1642e+00,  3.5548e-01, -6.5772e-01, -7.5207e-01,\n",
       "          7.2121e-02,  5.5616e-02, -2.1681e-01,  3.5404e-01,  9.7071e-01,\n",
       "         -8.1120e-01,  1.3573e+00,  8.3970e-01,  7.4578e-01, -1.3744e-01,\n",
       "          5.4152e-01,  4.8702e-01, -4.0673e-01,  4.1271e-01,  3.8397e-01,\n",
       "         -9.5583e-01, -4.4727e-01, -8.4218e-01, -2.0536e-01, -9.9179e-01,\n",
       "         -3.6639e-01,  6.0340e-01,  8.6483e-01,  5.5308e-01, -7.0412e-01,\n",
       "          6.8783e-01,  1.2991e+00, -5.8958e-02, -3.6826e-01,  5.5585e-01,\n",
       "          1.4580e+00,  4.1813e-02, -8.6564e-02,  3.8117e-01,  4.0717e-01,\n",
       "         -1.2149e-01, -5.2200e-01,  5.8022e-01,  5.1566e-01, -2.2635e-02,\n",
       "          3.5183e-01,  4.8996e-01, -8.3917e-02, -4.2180e-01,  1.7920e-01,\n",
       "         -4.5248e-01,  6.3856e-01, -5.6202e-01, -2.1249e-01,  4.8588e-01,\n",
       "          2.9617e-01,  1.0185e-01,  1.1443e+00,  1.3054e-01, -4.2397e-01,\n",
       "          9.3736e-01, -7.6578e-01, -1.4308e-01,  1.3684e+00, -5.3266e-01,\n",
       "          3.7436e-01,  1.7533e+00, -4.3925e-01,  1.7424e+00, -9.8912e-01,\n",
       "         -7.0377e-02, -1.1079e-01,  9.5434e-01,  7.4779e-01,  1.7716e-02,\n",
       "          7.0356e-01,  4.2826e-02,  2.7226e-01,  2.5459e-01,  3.8791e-01,\n",
       "         -3.2838e-01, -4.1795e-02,  3.6498e-01,  4.3580e-01,  1.0922e+00,\n",
       "          2.8430e-01, -2.8801e-01,  1.9187e-01,  7.0451e-01,  7.5065e-01,\n",
       "         -5.1540e-01,  6.6068e-01,  6.0003e-02,  1.2938e+00, -5.7127e-02,\n",
       "         -7.1385e-02,  6.1678e-01,  4.8061e-01,  3.5045e-01,  1.3377e+00,\n",
       "          6.0875e-01,  4.3008e-01,  3.0369e-01, -1.6715e-01,  1.0776e+00,\n",
       "          4.0877e-01,  3.4382e-02,  8.8063e-01,  3.7721e-01,  4.9536e-01,\n",
       "          4.0669e-01,  4.6083e-01,  2.1247e-01,  1.0024e+00, -4.3144e-01,\n",
       "         -7.1310e-01, -7.9282e-01,  5.8752e-01,  7.3807e-01,  1.2813e+00,\n",
       "          2.2498e-01,  5.8284e-01,  8.1077e-01,  2.0794e-01,  3.0618e-02,\n",
       "          3.8076e-01,  7.5309e-01,  1.3154e+00,  7.8250e-01, -2.5567e-02,\n",
       "          2.9582e-01,  6.3454e-01,  4.5289e-01, -6.4290e-01,  3.4074e-01,\n",
       "         -3.5024e-01,  1.1639e-01, -1.2200e+00, -9.8766e-01,  5.0950e-01,\n",
       "          9.1063e-01,  6.9781e-02,  1.9798e-01,  1.2734e+00,  6.3617e-02,\n",
       "         -4.9171e-01,  8.6797e-01, -4.1553e-01,  1.2871e+00, -8.0417e-01,\n",
       "         -1.6702e-01,  3.5115e-01, -1.0237e+00,  1.1190e+00,  1.2403e-01,\n",
       "         -1.3037e+00, -9.7238e-01,  2.5786e-01,  5.6417e-01,  7.3187e-01,\n",
       "         -7.0236e-01,  4.2331e-01,  8.0291e-01,  1.2378e+00, -5.1442e-01,\n",
       "          1.0019e+00,  5.7257e-02, -5.1721e-01, -7.8611e-01,  3.2403e-01,\n",
       "          2.1440e-01,  1.3451e+00,  1.4045e+00,  7.8972e-01, -6.2075e-01,\n",
       "          1.1538e+00,  4.9356e-01,  2.4140e-01,  3.3059e-01, -1.2183e-01,\n",
       "          1.3511e+00,  3.4940e-01, -3.0051e-01, -5.5942e-03,  7.5133e-01,\n",
       "          1.0880e+00,  1.3057e+00,  1.7299e+00, -2.1830e-01, -2.2437e-01,\n",
       "          8.3811e-01, -6.6979e-01, -3.4522e-01, -8.9856e-02,  5.6827e-01,\n",
       "          2.7154e-01,  9.9930e-01,  7.7796e-01, -1.0288e-01, -2.8320e-01,\n",
       "          3.5954e-01,  3.0147e-01, -3.7840e-01,  1.1018e+00, -3.2528e-01,\n",
       "          6.3492e-01, -1.0814e+00,  9.4176e-01, -7.9301e-01, -1.6818e+00,\n",
       "          3.0755e-01,  1.1020e+00, -1.4156e-01, -1.9658e-01,  1.4036e+00,\n",
       "          7.9766e-01, -1.7018e-01,  7.8728e-01,  7.7779e-01,  8.2396e-02,\n",
       "          1.5590e-01, -2.4777e-01, -4.0109e-01, -8.4749e-01,  5.7478e-01,\n",
       "         -7.6104e-01,  5.1913e-02,  5.5223e-01, -7.4224e-02, -6.2572e-01,\n",
       "         -8.2781e-01,  5.4467e-01,  3.5692e-01,  1.4793e+00,  1.5034e+00,\n",
       "         -8.6480e-01, -2.7732e-01,  1.2656e+00,  5.9244e-01,  6.4358e-01,\n",
       "         -7.4333e-02, -2.8246e-01,  9.0198e-01, -7.6415e-01,  3.7699e-01,\n",
       "          1.3066e+00,  1.0814e+00,  9.3341e-01, -4.1407e-01, -1.5951e+00,\n",
       "         -2.6308e-01,  2.5612e-01,  1.9405e-01,  5.0278e-01,  1.4851e-01,\n",
       "         -8.6517e-02,  7.3544e-01, -8.3512e-01,  3.2391e-01, -2.3396e-01,\n",
       "         -7.9957e-01, -9.7471e-01, -5.5059e-01, -3.2474e-01,  1.2215e+00,\n",
       "         -7.2815e-02,  5.6176e-02,  2.6902e-01, -1.4228e+00,  1.1187e-01,\n",
       "         -5.9499e-01,  4.4210e-02,  3.7183e-01,  1.3358e-01,  5.0301e-02,\n",
       "         -3.6655e-01, -2.9157e-01,  1.6244e-01,  1.2341e-01, -4.9802e-02,\n",
       "         -3.5042e-01, -6.9991e-01,  3.9171e-01,  5.4463e-01,  1.9468e-02,\n",
       "          1.9112e-01, -1.6113e-01, -1.3032e-01,  2.1184e-01,  8.2449e-01,\n",
       "         -2.6627e-01, -1.3512e-01, -2.0233e-01,  5.5407e-03, -7.2686e-01,\n",
       "          2.2735e-03,  8.8682e-02, -4.2318e-01, -5.8164e-01, -8.1303e-01,\n",
       "         -4.0018e-01,  4.3902e-01, -1.2024e-01,  8.6516e-01, -3.7576e-02,\n",
       "         -1.2866e-01,  9.8780e-01, -1.5837e-01, -3.9987e-01, -1.5021e+00,\n",
       "          6.5038e-01, -1.0528e+00,  5.7471e-01,  2.9607e-01, -9.4727e-01,\n",
       "         -6.7570e-01,  3.3315e-02,  2.6818e-01, -3.2839e-01, -5.4095e-01,\n",
       "         -5.5156e-01, -1.8331e+00,  1.3752e+00,  8.8412e-02, -6.9337e-01,\n",
       "         -2.0919e-01, -6.8690e-01, -6.4754e-01, -1.8001e+00, -5.0673e-01,\n",
       "         -8.1424e-04,  3.5265e-01, -4.7657e-01,  1.1217e+00,  7.5347e-01]],\n",
       "       grad_fn=<AddmmBackward>)"
      ]
     },
     "execution_count": 5,
     "metadata": {},
     "output_type": "execute_result"
    }
   ],
   "source": [
    "avgpool_features = None\n",
    "\n",
    "def get_features(module, inputs, output):\n",
    "    global avgpool_features   \n",
    "    avgpool_features = np.squeeze(output.data.cpu().numpy(), axis=(2, 3))\n",
    "\n",
    "model = torchvision.models.resnet50(pretrained=True)\n",
    "model.avgpool.register_forward_hook(get_features)\n",
    "\n",
    "dummy_x = torch.randn(1, 3, 224, 224)\n",
    "model(dummy_x)\n",
    "\n",
    "assert avgpool_features.shape == (1, 2048), 'expected (1, 2048), but real is {}'.format(avgpool_features.shape)"
   ]
  },
  {
   "cell_type": "markdown",
   "metadata": {},
   "source": [
    "### Обучение на признаках\n",
    "\n",
    "Обучим обычный sklearn-классификатор, которому на вход подадим признаки из нейросети\n",
    "\n",
    "В качестве датасета будем использовать данные конкурса https://www.kaggle.com/c/dogs-vs-cats/data, https://www.tensorflow.org/datasets/catalog/cats_vs_dogs\n",
    "\n",
    "Датасет содержит 25000 изображений кошек и собак, по 12500 каждого класса. Задача: определить, к какому классу относится конкретное изображение\n",
    "\n",
    "Для определения качества моделей будем использовать метрику ROC-AUC"
   ]
  },
  {
   "cell_type": "markdown",
   "metadata": {},
   "source": [
    "Скачаем и подготовим данные. Выделим 30% на валидацию"
   ]
  },
  {
   "cell_type": "code",
   "execution_count": 6,
   "metadata": {},
   "outputs": [],
   "source": [
    "# !wget https://download.microsoft.com/download/3/E/1/3E1C3F21-ECDB-4869-8368-6DEBA77B919F/kagglecatsanddogs_3367a.zip \n",
    "# !unzip kagglecatsanddogs_3367a.zip"
   ]
  },
  {
   "cell_type": "code",
   "execution_count": 7,
   "metadata": {},
   "outputs": [],
   "source": [
    "data_path = Path('PetImages')\n",
    "cat_fnames = [str(p) for p in (data_path / 'Cat').glob('*.jpg')][:1000]\n",
    "dog_fnames = [str(p) for p in (data_path / 'Dog').glob('*.jpg')][:1000]\n",
    "all_names = cat_fnames + dog_fnames\n",
    "labels = np.array([0] * len(cat_fnames) + [1] * len(dog_fnames))\n",
    "\n",
    "train_fnames, val_fnames, y_train, y_val = train_test_split(\n",
    "    all_names, labels, test_size=0.3,\n",
    "    random_state=42, shuffle=True, stratify=labels,\n",
    ")"
   ]
  },
  {
   "cell_type": "markdown",
   "metadata": {},
   "source": [
    "В **PyTorch** можно удобно работать с данными с помощью классов `Dataset` и `DataLoader`\n",
    "\n",
    "Напишем свой датасет для расчет признаков изображений"
   ]
  },
  {
   "cell_type": "code",
   "execution_count": 8,
   "metadata": {},
   "outputs": [],
   "source": [
    "class FeaturesDataset(torch.utils.data.Dataset):\n",
    "    def __init__(self, fnames, shape):\n",
    "        self._fnames = fnames\n",
    "        self._transform = torchvision.transforms.Compose([\n",
    "            \n",
    "            torchvision.transforms.Resize(shape),\n",
    "            torchvision.transforms.ToTensor(),\n",
    "            torchvision.transforms.Normalize([0.485, 0.456, 0.406], [0.229, 0.224, 0.225])\n",
    "        ])\n",
    "\n",
    "    def __getitem__(self, index):\n",
    "        fname = self._fnames[index]\n",
    "        img = Image.open(fname).convert('RGB')\n",
    "        img = self._transform(img)\n",
    "\n",
    "        return img\n",
    "\n",
    "    def __len__(self):\n",
    "        return len(self._fnames)"
   ]
  },
  {
   "cell_type": "markdown",
   "metadata": {},
   "source": [
    "Теперь нужно как-то рассчитать признаки.\n",
    "\n",
    "Воспользуемся способом с хуком, но чтобы обойтись без глобальной переменной реализуем класс `FeatureExtractor`"
   ]
  },
  {
   "cell_type": "code",
   "execution_count": 9,
   "metadata": {},
   "outputs": [],
   "source": [
    "class FeatureExtractor:\n",
    "    def __init__(self, model, device='cuda'):\n",
    "        self._model = model\n",
    "        self._avgpool_features = None\n",
    "        self._device = device\n",
    "        self._model.avgpool.register_forward_hook(self._get_features)\n",
    "\n",
    "    def get_dataset_features(self, loader):\n",
    "        self._model.eval().to(self._device)\n",
    "        features = []\n",
    "        with tqdm.tqdm(loader) as pbar:\n",
    "            for sample in pbar:\n",
    "                _ = self._model(sample.to(self._device))\n",
    "                features.append(self._avgpool_features)\n",
    "\n",
    "        return np.concatenate(features)\n",
    "\n",
    "    def _get_features(self, module, inputs, output):\n",
    "        self._avgpool_features = np.squeeze(output.data.cpu().numpy(), axis=(2, 3))"
   ]
  },
  {
   "cell_type": "code",
   "execution_count": 10,
   "metadata": {},
   "outputs": [
    {
     "name": "stderr",
     "output_type": "stream",
     "text": [
      "100%|██████████| 175/175 [00:28<00:00,  6.12it/s]\n",
      "100%|██████████| 75/75 [00:10<00:00,  7.10it/s]\n"
     ]
    }
   ],
   "source": [
    "model = torchvision.models.resnet50(pretrained=True)\n",
    "\n",
    "batch_size = 8\n",
    "num_workers = 0\n",
    "shape = (224, 224)\n",
    "\n",
    "train_dataset = FeaturesDataset(train_fnames, shape)\n",
    "train_loader = torch.utils.data.DataLoader(train_dataset, batch_size, shuffle=False, num_workers=num_workers)\n",
    "\n",
    "val_dataset = FeaturesDataset(val_fnames, shape)\n",
    "val_loader = torch.utils.data.DataLoader(val_dataset, batch_size, shuffle=False, num_workers=num_workers)\n",
    "\n",
    "extractor = FeatureExtractor(model, device='cuda')\n",
    "\n",
    "train_features = extractor.get_dataset_features(train_loader)\n",
    "val_features = extractor.get_dataset_features(val_loader)"
   ]
  },
  {
   "cell_type": "markdown",
   "metadata": {},
   "source": [
    "Теперь можно взять любой из известных классификаторов и подать найденные признаки на вход\n",
    "\n",
    "Должен получитсься очень хороший ROC-AUC"
   ]
  },
  {
   "cell_type": "code",
   "execution_count": 11,
   "metadata": {},
   "outputs": [],
   "source": [
    "def plot_roc_auc(y_val, y_pred, model_name):\n",
    "    auc = roc_auc_score(y_val, y_pred)\n",
    "    plt.plot(*roc_curve(y_val, y_pred)[:2], label='{} AUC={:.4f}'.format(model_name, auc))\n",
    "\n",
    "    plt.plot([0, 1], [0, 1], '--', color='black')\n",
    "    plt.legend(fontsize='large')\n",
    "    plt.grid()"
   ]
  },
  {
   "cell_type": "code",
   "execution_count": 12,
   "metadata": {},
   "outputs": [
    {
     "data": {
      "text/plain": [
       "RandomForestClassifier(random_state=42)"
      ]
     },
     "execution_count": 12,
     "metadata": {},
     "output_type": "execute_result"
    }
   ],
   "source": [
    "clf = RandomForestClassifier(random_state=42)\n",
    "clf.fit(train_features, y_train)"
   ]
  },
  {
   "cell_type": "code",
   "execution_count": 13,
   "metadata": {},
   "outputs": [],
   "source": [
    "y_pred = clf.predict_proba(val_features)[:, 1]"
   ]
  },
  {
   "cell_type": "code",
   "execution_count": 14,
   "metadata": {},
   "outputs": [
    {
     "data": {
      "image/png": "[encoded data removed]",
      "text/plain": [
       "<Figure size 432x288 with 1 Axes>"
      ]
     },
     "metadata": {
      "needs_background": "light"
     },
     "output_type": "display_data"
    }
   ],
   "source": [
    "plot_roc_auc(y_val, y_pred, model_name='RF')"
   ]
  },
  {
   "cell_type": "markdown",
   "metadata": {},
   "source": [
    "### Fine-tuning"
   ]
  },
  {
   "cell_type": "markdown",
   "metadata": {},
   "source": [
    "Попробуем добиться лучшего качества модели путем ее дообучения"
   ]
  },
  {
   "cell_type": "code",
   "execution_count": 15,
   "metadata": {},
   "outputs": [],
   "source": [
    "class ResnetFinetune(nn.Module):\n",
    "    def __init__(self):\n",
    "        super(ResnetFinetune, self).__init__()\n",
    "        self.net = torchvision.models.resnet50(pretrained=True)\n",
    "        self.net.fc = nn.Sequential(\n",
    "            nn.Linear(self.net.fc.in_features, 256),\n",
    "            nn.ReLU(inplace=True),\n",
    "            nn.Dropout(p=0.2),\n",
    "            nn.Linear(256, 1)\n",
    "        )\n",
    "\n",
    "    def fresh_parameters(self):\n",
    "        return self.net.fc.parameters()\n",
    "\n",
    "    def forward(self, x):\n",
    "        return self.net(x)"
   ]
  },
  {
   "cell_type": "code",
   "execution_count": 16,
   "metadata": {},
   "outputs": [],
   "source": [
    "class CatsDogsDataset(torch.utils.data.Dataset):\n",
    "    def __init__(self, fnames, labels, shape):\n",
    "        self._fnames = fnames\n",
    "        self._labels = labels\n",
    "        self._shape = shape\n",
    "        self._transform = torchvision.transforms.Compose([\n",
    "            \n",
    "            torchvision.transforms.Resize(shape),\n",
    "            torchvision.transforms.ToTensor(),\n",
    "            torchvision.transforms.Normalize([0.485, 0.456, 0.406], [0.229, 0.224, 0.225])\n",
    "        ])\n",
    "\n",
    "    def __getitem__(self, index):\n",
    "        fname = self._fnames[index]\n",
    "        img = Image.open(fname).convert('RGB')\n",
    "        img = self._transform(img)\n",
    "\n",
    "        return img, self._labels[index]\n",
    "\n",
    "    def __len__(self):\n",
    "        return len(self._fnames)"
   ]
  },
  {
   "cell_type": "code",
   "execution_count": 17,
   "metadata": {},
   "outputs": [],
   "source": [
    "def calculate_correct(y_true, y_pred):\n",
    "    correct = (y_true == y_pred).squeeze()\n",
    "\n",
    "    return correct.sum()"
   ]
  },
  {
   "cell_type": "code",
   "execution_count": 18,
   "metadata": {},
   "outputs": [],
   "source": [
    "class Trainer:    \n",
    "    def __init__(self, model, criterion, config, device='cuda'):\n",
    "        self._model = model\n",
    "        self._device = device\n",
    "        self._criterion = criterion\n",
    "        self._epochs = config['epochs']\n",
    "\n",
    "        if config['only_top']:\n",
    "            self._optimizer = torch.optim.Adam(self._model.fresh_parameters(), lr=config['lr'])\n",
    "        else:\n",
    "            self._optimizer = torch.optim.Adam(self._model.parameters(), lr=config['lr'])        \n",
    "\n",
    "        self._model.to(self._device)\n",
    "\n",
    "    def fit(self, train_loader, val_loader):\n",
    "        for epoch in range(self._epochs):\n",
    "            self._model.train()\n",
    "            train_loss, train_accuracy = self._run_epoch(epoch, train_loader, is_training=True)\n",
    "            print('Train. loss: {}, accuracy: {}'.format(train_loss, train_accuracy))\n",
    "            \n",
    "            self._model.eval()\n",
    "            val_loss, val_accuracy = self._run_epoch(epoch, val_loader, is_training=False)\n",
    "            print('Validation. loss: {}, accuracy: {}'.format(val_loss, val_accuracy))\n",
    "\n",
    "    def _run_epoch(self, epoch, loader, is_training):\n",
    "        loss = 0\n",
    "        correct = 0\n",
    "        if is_training:\n",
    "            pbar = tqdm.tqdm(enumerate(loader), total=len(loader), desc='Epoch {}'.format(epoch), ncols=0)\n",
    "        else:\n",
    "            pbar = tqdm.tqdm(enumerate(loader), total=len(loader), desc='Val', ncols=0)\n",
    "        \n",
    "        for i, data in pbar:\n",
    "            batch_loss, batch_correct = self._step(data, is_training)\n",
    "            loss += batch_loss\n",
    "            correct += batch_correct\n",
    "        \n",
    "        pbar.close()\n",
    "        loss /= len(loader)\n",
    "        accuracy = correct / len(loader.dataset)\n",
    "\n",
    "        return loss, accuracy\n",
    "    \n",
    "    def _step(self, data, is_training=True):\n",
    "        images = data[0].to(self._device)\n",
    "        y_true = data[1].to(self._device)\n",
    "\n",
    "        if is_training:\n",
    "            self._optimizer.zero_grad()\n",
    "\n",
    "        with torch.set_grad_enabled(is_training):\n",
    "            y_pred = self._model(images)\n",
    "            y_pred = y_pred.squeeze()\n",
    "            loss = self._criterion(y_pred, y_true.float())\n",
    "\n",
    "            if is_training:\n",
    "                loss.backward()\n",
    "                self._optimizer.step()\n",
    "            \n",
    "        probas = torch.sigmoid(y_pred)\n",
    "        labels = (probas > 0.5).int()\n",
    "        correct = calculate_correct(y_true=y_true, y_pred=labels)\n",
    "\n",
    "        return loss.item(), correct.item()"
   ]
  },
  {
   "cell_type": "markdown",
   "metadata": {},
   "source": [
    "Сначала будем учить только добавленные нами слои"
   ]
  },
  {
   "cell_type": "code",
   "execution_count": 19,
   "metadata": {},
   "outputs": [],
   "source": [
    "model = ResnetFinetune()"
   ]
  },
  {
   "cell_type": "code",
   "execution_count": 20,
   "metadata": {},
   "outputs": [],
   "source": [
    "batch_size = 8\n",
    "num_workers = 16\n",
    "shape = (224, 224)\n",
    "\n",
    "train_dataset = CatsDogsDataset(train_fnames, y_train, shape)\n",
    "train_loader = torch.utils.data.DataLoader(train_dataset, batch_size, shuffle=True, num_workers=num_workers)\n",
    "\n",
    "val_dataset = CatsDogsDataset(val_fnames, y_val, shape)\n",
    "val_loader = torch.utils.data.DataLoader(val_dataset, batch_size, shuffle=False, num_workers=num_workers)"
   ]
  },
  {
   "cell_type": "code",
   "execution_count": 21,
   "metadata": {},
   "outputs": [
    {
     "name": "stderr",
     "output_type": "stream",
     "text": [
      "Epoch 0: 100% 175/175 [00:06<00:00, 26.70it/s]"
     ]
    },
    {
     "name": "stdout",
     "output_type": "stream",
     "text": [
      "Train. loss: 0.2878206517600587, accuracy: 0.8728571428571429\n"
     ]
    },
    {
     "name": "stderr",
     "output_type": "stream",
     "text": [
      "\n",
      "Val: 100% 75/75 [00:01<00:00, 63.18it/s]"
     ]
    },
    {
     "name": "stdout",
     "output_type": "stream",
     "text": [
      "Validation. loss: 0.07327219239746531, accuracy: 0.97\n"
     ]
    },
    {
     "name": "stderr",
     "output_type": "stream",
     "text": [
      "\n",
      "Epoch 1: 100% 175/175 [00:06<00:00, 27.31it/s]"
     ]
    },
    {
     "name": "stdout",
     "output_type": "stream",
     "text": [
      "Train. loss: 0.15005938535024013, accuracy: 0.9371428571428572\n"
     ]
    },
    {
     "name": "stderr",
     "output_type": "stream",
     "text": [
      "\n",
      "Val: 100% 75/75 [00:01<00:00, 62.76it/s]"
     ]
    },
    {
     "name": "stdout",
     "output_type": "stream",
     "text": [
      "Validation. loss: 0.054956535268574955, accuracy: 0.9766666666666667\n"
     ]
    },
    {
     "name": "stderr",
     "output_type": "stream",
     "text": [
      "\n",
      "Epoch 2: 100% 175/175 [00:06<00:00, 26.98it/s]"
     ]
    },
    {
     "name": "stdout",
     "output_type": "stream",
     "text": [
      "Train. loss: 0.21026008424216083, accuracy: 0.9221428571428572\n"
     ]
    },
    {
     "name": "stderr",
     "output_type": "stream",
     "text": [
      "\n",
      "Val: 100% 75/75 [00:01<00:00, 63.05it/s]"
     ]
    },
    {
     "name": "stdout",
     "output_type": "stream",
     "text": [
      "Validation. loss: 0.21631858156683545, accuracy: 0.9083333333333333\n"
     ]
    },
    {
     "name": "stderr",
     "output_type": "stream",
     "text": [
      "\n",
      "Epoch 3: 100% 175/175 [00:06<00:00, 26.91it/s]"
     ]
    },
    {
     "name": "stdout",
     "output_type": "stream",
     "text": [
      "Train. loss: 0.14856943567083883, accuracy: 0.9428571428571428\n"
     ]
    },
    {
     "name": "stderr",
     "output_type": "stream",
     "text": [
      "\n",
      "Val: 100% 75/75 [00:01<00:00, 62.13it/s]"
     ]
    },
    {
     "name": "stdout",
     "output_type": "stream",
     "text": [
      "Validation. loss: 0.06878478900529444, accuracy: 0.97\n"
     ]
    },
    {
     "name": "stderr",
     "output_type": "stream",
     "text": [
      "\n",
      "Epoch 4: 100% 175/175 [00:06<00:00, 26.98it/s]"
     ]
    },
    {
     "name": "stdout",
     "output_type": "stream",
     "text": [
      "Train. loss: 0.13731490296045584, accuracy: 0.95\n"
     ]
    },
    {
     "name": "stderr",
     "output_type": "stream",
     "text": [
      "\n",
      "Val: 100% 75/75 [00:01<00:00, 61.97it/s]"
     ]
    },
    {
     "name": "stdout",
     "output_type": "stream",
     "text": [
      "Validation. loss: 0.0679237037555625, accuracy: 0.9783333333333334\n"
     ]
    },
    {
     "name": "stderr",
     "output_type": "stream",
     "text": [
      "\n",
      "Epoch 5: 100% 175/175 [00:06<00:00, 26.91it/s]"
     ]
    },
    {
     "name": "stdout",
     "output_type": "stream",
     "text": [
      "Train. loss: 0.14632970096543432, accuracy: 0.9442857142857143\n"
     ]
    },
    {
     "name": "stderr",
     "output_type": "stream",
     "text": [
      "\n",
      "Val: 100% 75/75 [00:01<00:00, 62.73it/s]"
     ]
    },
    {
     "name": "stdout",
     "output_type": "stream",
     "text": [
      "Validation. loss: 0.054771969655218224, accuracy: 0.985\n"
     ]
    },
    {
     "name": "stderr",
     "output_type": "stream",
     "text": [
      "\n",
      "Epoch 6: 100% 175/175 [00:06<00:00, 26.63it/s]"
     ]
    },
    {
     "name": "stdout",
     "output_type": "stream",
     "text": [
      "Train. loss: 0.1765380034090153, accuracy: 0.9378571428571428\n"
     ]
    },
    {
     "name": "stderr",
     "output_type": "stream",
     "text": [
      "\n",
      "Val: 100% 75/75 [00:01<00:00, 62.36it/s]"
     ]
    },
    {
     "name": "stdout",
     "output_type": "stream",
     "text": [
      "Validation. loss: 0.09479248276601235, accuracy: 0.9633333333333334\n"
     ]
    },
    {
     "name": "stderr",
     "output_type": "stream",
     "text": [
      "\n",
      "Epoch 7: 100% 175/175 [00:06<00:00, 26.91it/s]"
     ]
    },
    {
     "name": "stdout",
     "output_type": "stream",
     "text": [
      "Train. loss: 0.1787045042921922, accuracy: 0.9271428571428572\n"
     ]
    },
    {
     "name": "stderr",
     "output_type": "stream",
     "text": [
      "\n",
      "Val: 100% 75/75 [00:01<00:00, 63.20it/s]"
     ]
    },
    {
     "name": "stdout",
     "output_type": "stream",
     "text": [
      "Validation. loss: 0.06555123050386708, accuracy: 0.9716666666666667\n"
     ]
    },
    {
     "name": "stderr",
     "output_type": "stream",
     "text": [
      "\n",
      "Epoch 8: 100% 175/175 [00:06<00:00, 26.89it/s]"
     ]
    },
    {
     "name": "stdout",
     "output_type": "stream",
     "text": [
      "Train. loss: 0.15252520369897996, accuracy: 0.94\n"
     ]
    },
    {
     "name": "stderr",
     "output_type": "stream",
     "text": [
      "\n",
      "Val: 100% 75/75 [00:01<00:00, 62.56it/s]"
     ]
    },
    {
     "name": "stdout",
     "output_type": "stream",
     "text": [
      "Validation. loss: 0.12611018714184563, accuracy: 0.945\n"
     ]
    },
    {
     "name": "stderr",
     "output_type": "stream",
     "text": [
      "\n",
      "Epoch 9: 100% 175/175 [00:06<00:00, 26.79it/s]"
     ]
    },
    {
     "name": "stdout",
     "output_type": "stream",
     "text": [
      "Train. loss: 0.12871772038218166, accuracy: 0.9442857142857143\n"
     ]
    },
    {
     "name": "stderr",
     "output_type": "stream",
     "text": [
      "\n",
      "Val: 100% 75/75 [00:01<00:00, 61.97it/s]"
     ]
    },
    {
     "name": "stdout",
     "output_type": "stream",
     "text": [
      "Validation. loss: 0.09869930449562768, accuracy: 0.9516666666666667\n"
     ]
    },
    {
     "name": "stderr",
     "output_type": "stream",
     "text": [
      "\n"
     ]
    }
   ],
   "source": [
    "config = {\n",
    "    'lr': 1e-3,\n",
    "    'epochs': 10,\n",
    "    'only_top': True\n",
    "}\n",
    "\n",
    "trainer = Trainer(model, nn.BCEWithLogitsLoss(), config, device='cuda')\n",
    "trainer.fit(train_loader, val_loader)"
   ]
  },
  {
   "cell_type": "code",
   "execution_count": 22,
   "metadata": {},
   "outputs": [],
   "source": [
    "class Evaluator:    \n",
    "    def __init__(self, model, device='cuda'):\n",
    "        self._model = model\n",
    "        self._device = device\n",
    "\n",
    "    def predict(self, loader):\n",
    "        y_pred = []\n",
    "        self._model.eval().to(self._device)\n",
    "        \n",
    "        with tqdm.tqdm(enumerate(loader), total=len(loader)) as pbar:\n",
    "            for i, data in pbar:\n",
    "                batch_pred = self._step(data)\n",
    "                y_pred.append(batch_pred)\n",
    "        \n",
    "        return np.concatenate(y_pred)\n",
    "    \n",
    "    def _step(self, data, is_training=True):\n",
    "        images = data[0].to(self._device)\n",
    "\n",
    "        with torch.no_grad():\n",
    "            y_pred = self._model(images)\n",
    "        \n",
    "        y_pred = y_pred.squeeze()\n",
    "        y_pred = torch.sigmoid(y_pred)\n",
    "\n",
    "        return y_pred.cpu().data.numpy()"
   ]
  },
  {
   "cell_type": "code",
   "execution_count": 23,
   "metadata": {},
   "outputs": [
    {
     "name": "stderr",
     "output_type": "stream",
     "text": [
      "100%|██████████| 75/75 [00:01<00:00, 63.73it/s]\n"
     ]
    }
   ],
   "source": [
    "evaluator = Evaluator(model, device='cuda')\n",
    "y_pred = evaluator.predict(val_loader)"
   ]
  },
  {
   "cell_type": "code",
   "execution_count": 24,
   "metadata": {},
   "outputs": [
    {
     "data": {
      "image/png": "[encoded data removed]",
      "text/plain": [
       "<Figure size 432x288 with 1 Axes>"
      ]
     },
     "metadata": {
      "needs_background": "light"
     },
     "output_type": "display_data"
    }
   ],
   "source": [
    "plot_roc_auc(y_val, y_pred, model_name='Resnet finetuned')"
   ]
  },
  {
   "cell_type": "markdown",
   "metadata": {},
   "source": [
    "Теперь разморозим все веса и обучим несколько эпох с низким *learning rate*"
   ]
  },
  {
   "cell_type": "code",
   "execution_count": 25,
   "metadata": {},
   "outputs": [
    {
     "name": "stderr",
     "output_type": "stream",
     "text": [
      "Epoch 0: 100% 175/175 [00:07<00:00, 22.17it/s]"
     ]
    },
    {
     "name": "stdout",
     "output_type": "stream",
     "text": [
      "Train. loss: 0.19543461940650428, accuracy: 0.9314285714285714\n"
     ]
    },
    {
     "name": "stderr",
     "output_type": "stream",
     "text": [
      "\n",
      "Val: 100% 75/75 [00:01<00:00, 61.46it/s]"
     ]
    },
    {
     "name": "stdout",
     "output_type": "stream",
     "text": [
      "Validation. loss: 0.07303269700302432, accuracy: 0.9683333333333334\n"
     ]
    },
    {
     "name": "stderr",
     "output_type": "stream",
     "text": [
      "\n",
      "Epoch 1: 100% 175/175 [00:07<00:00, 22.68it/s]"
     ]
    },
    {
     "name": "stdout",
     "output_type": "stream",
     "text": [
      "Train. loss: 0.09743821743310296, accuracy: 0.9657142857142857\n"
     ]
    },
    {
     "name": "stderr",
     "output_type": "stream",
     "text": [
      "\n",
      "Val: 100% 75/75 [00:01<00:00, 62.25it/s]"
     ]
    },
    {
     "name": "stdout",
     "output_type": "stream",
     "text": [
      "Validation. loss: 0.08422375088208355, accuracy: 0.9616666666666667\n"
     ]
    },
    {
     "name": "stderr",
     "output_type": "stream",
     "text": [
      "\n",
      "Epoch 2: 100% 175/175 [00:07<00:00, 22.78it/s]"
     ]
    },
    {
     "name": "stdout",
     "output_type": "stream",
     "text": [
      "Train. loss: 0.0930388945075018, accuracy: 0.9742857142857143\n"
     ]
    },
    {
     "name": "stderr",
     "output_type": "stream",
     "text": [
      "\n",
      "Val: 100% 75/75 [00:01<00:00, 62.74it/s]"
     ]
    },
    {
     "name": "stdout",
     "output_type": "stream",
     "text": [
      "Validation. loss: 0.059017783345188944, accuracy: 0.975\n"
     ]
    },
    {
     "name": "stderr",
     "output_type": "stream",
     "text": [
      "\n",
      "Epoch 3: 100% 175/175 [00:07<00:00, 23.07it/s]"
     ]
    },
    {
     "name": "stdout",
     "output_type": "stream",
     "text": [
      "Train. loss: 0.07192404488650417, accuracy: 0.9757142857142858\n"
     ]
    },
    {
     "name": "stderr",
     "output_type": "stream",
     "text": [
      "\n",
      "Val: 100% 75/75 [00:01<00:00, 62.57it/s]"
     ]
    },
    {
     "name": "stdout",
     "output_type": "stream",
     "text": [
      "Validation. loss: 0.21121353819345434, accuracy: 0.9083333333333333\n"
     ]
    },
    {
     "name": "stderr",
     "output_type": "stream",
     "text": [
      "\n",
      "Epoch 4: 100% 175/175 [00:07<00:00, 23.02it/s]"
     ]
    },
    {
     "name": "stdout",
     "output_type": "stream",
     "text": [
      "Train. loss: 0.05034620654968811, accuracy: 0.9835714285714285\n"
     ]
    },
    {
     "name": "stderr",
     "output_type": "stream",
     "text": [
      "\n",
      "Val: 100% 75/75 [00:01<00:00, 63.53it/s]"
     ]
    },
    {
     "name": "stdout",
     "output_type": "stream",
     "text": [
      "Validation. loss: 0.09905175955054195, accuracy: 0.965\n"
     ]
    },
    {
     "name": "stderr",
     "output_type": "stream",
     "text": [
      "\n",
      "Epoch 5: 100% 175/175 [00:07<00:00, 23.12it/s]"
     ]
    },
    {
     "name": "stdout",
     "output_type": "stream",
     "text": [
      "Train. loss: 0.05476120562907973, accuracy: 0.9835714285714285\n"
     ]
    },
    {
     "name": "stderr",
     "output_type": "stream",
     "text": [
      "\n",
      "Val: 100% 75/75 [00:01<00:00, 62.95it/s]\n"
     ]
    },
    {
     "name": "stdout",
     "output_type": "stream",
     "text": [
      "Validation. loss: 0.07595083080833623, accuracy: 0.965\n"
     ]
    },
    {
     "name": "stderr",
     "output_type": "stream",
     "text": [
      "Epoch 6: 100% 175/175 [00:07<00:00, 23.01it/s]"
     ]
    },
    {
     "name": "stdout",
     "output_type": "stream",
     "text": [
      "Train. loss: 0.029514970740794004, accuracy: 0.9914285714285714\n"
     ]
    },
    {
     "name": "stderr",
     "output_type": "stream",
     "text": [
      "\n",
      "Val: 100% 75/75 [00:01<00:00, 62.90it/s]"
     ]
    },
    {
     "name": "stdout",
     "output_type": "stream",
     "text": [
      "Validation. loss: 0.18471266158638172, accuracy: 0.945\n"
     ]
    },
    {
     "name": "stderr",
     "output_type": "stream",
     "text": [
      "\n",
      "Epoch 7: 100% 175/175 [00:07<00:00, 22.75it/s]"
     ]
    },
    {
     "name": "stdout",
     "output_type": "stream",
     "text": [
      "Train. loss: 0.06609302335917684, accuracy: 0.985\n"
     ]
    },
    {
     "name": "stderr",
     "output_type": "stream",
     "text": [
      "\n",
      "Val: 100% 75/75 [00:01<00:00, 62.20it/s]"
     ]
    },
    {
     "name": "stdout",
     "output_type": "stream",
     "text": [
      "Validation. loss: 0.14222137823700906, accuracy: 0.9466666666666667\n"
     ]
    },
    {
     "name": "stderr",
     "output_type": "stream",
     "text": [
      "\n",
      "Epoch 8: 100% 175/175 [00:07<00:00, 22.59it/s]"
     ]
    },
    {
     "name": "stdout",
     "output_type": "stream",
     "text": [
      "Train. loss: 0.030380946527501302, accuracy: 0.9907142857142858\n"
     ]
    },
    {
     "name": "stderr",
     "output_type": "stream",
     "text": [
      "\n",
      "Val: 100% 75/75 [00:01<00:00, 62.32it/s]"
     ]
    },
    {
     "name": "stdout",
     "output_type": "stream",
     "text": [
      "Validation. loss: 0.11642067892981382, accuracy: 0.955\n"
     ]
    },
    {
     "name": "stderr",
     "output_type": "stream",
     "text": [
      "\n",
      "Epoch 9: 100% 175/175 [00:07<00:00, 22.94it/s]"
     ]
    },
    {
     "name": "stdout",
     "output_type": "stream",
     "text": [
      "Train. loss: 0.022721332098548635, accuracy: 0.9921428571428571\n"
     ]
    },
    {
     "name": "stderr",
     "output_type": "stream",
     "text": [
      "\n",
      "Val: 100% 75/75 [00:01<00:00, 62.09it/s]"
     ]
    },
    {
     "name": "stdout",
     "output_type": "stream",
     "text": [
      "Validation. loss: 0.12661882306216285, accuracy: 0.9516666666666667\n"
     ]
    },
    {
     "name": "stderr",
     "output_type": "stream",
     "text": [
      "\n"
     ]
    }
   ],
   "source": [
    "config = {\n",
    "    'lr': 1e-4,\n",
    "    'epochs': 10,\n",
    "    'only_top': False\n",
    "}\n",
    "\n",
    "trainer = Trainer(model, nn.BCEWithLogitsLoss(), config, device='cuda')\n",
    "trainer.fit(train_loader, val_loader)"
   ]
  },
  {
   "cell_type": "code",
   "execution_count": 26,
   "metadata": {},
   "outputs": [
    {
     "name": "stderr",
     "output_type": "stream",
     "text": [
      "100%|██████████| 75/75 [00:01<00:00, 63.34it/s]\n"
     ]
    }
   ],
   "source": [
    "evaluator = Evaluator(model, device='cuda')\n",
    "y_pred = evaluator.predict(val_loader)"
   ]
  },
  {
   "cell_type": "code",
   "execution_count": 27,
   "metadata": {},
   "outputs": [
    {
     "data": {
      "image/png": "[encoded data removed]",
      "text/plain": [
       "<Figure size 432x288 with 1 Axes>"
      ]
     },
     "metadata": {
      "needs_background": "light"
     },
     "output_type": "display_data"
    }
   ],
   "source": [
    "plot_roc_auc(y_val, y_pred, model_name='Resnet finetuned no freeze')"
   ]
  },
  {
   "cell_type": "markdown",
   "metadata": {},
   "source": [
    "## Пишем свою CNN"
   ]
  },
  {
   "cell_type": "markdown",
   "metadata": {},
   "source": [
    "### Типичные ошибки\n",
    "\n",
    "Рассмотрим несколько примеров архитектур в связке с функциями потерь и попробуем найти какие-то проблемы\n",
    "\n",
    "Для простоты будем использовать `nn.Sequential`\n",
    "\n",
    "#### Задача 1\n",
    "\n",
    "Предсказать стоимость автомобиля, на вход 100 признаков, описывающих автомобиль"
   ]
  },
  {
   "cell_type": "code",
   "execution_count": 28,
   "metadata": {},
   "outputs": [],
   "source": [
    "model = nn.Sequential(\n",
    "    nn.BatchNorm2d(num_features=100),\n",
    "    nn.Linear(in_features=3, out_features=256),\n",
    "    nn.Linear(in_features=256, out_features=256),\n",
    "    nn.Linear(in_features=256, out_features=1)\n",
    ")\n",
    "\n",
    "loss = nn.MSELoss()"
   ]
  },
  {
   "cell_type": "markdown",
   "metadata": {},
   "source": [
    "#### Задача 2\n",
    "\n",
    "MNIST: Распознать рукописную цифру (0-9), на вход ч/б картинка 28x28 пикселей"
   ]
  },
  {
   "cell_type": "code",
   "execution_count": 29,
   "metadata": {},
   "outputs": [],
   "source": [
    "model = nn.Sequential(\n",
    "    nn.Conv2d(in_channels=3, out_channels=512, kernel_size=(3, 3)),\n",
    "    nn.ReLU(),\n",
    "    nn.MaxPool2d((2, 2)),\n",
    "    \n",
    "    nn.Conv2d(in_channels=512, out_channels=256, kernel_size=(3, 3)),\n",
    "    nn.ReLU(),\n",
    "    nn.MaxPool2d((2, 2)),\n",
    "\n",
    "    nn.Flatten(),\n",
    "    nn.Linear(in_features=256, out_features=100),\n",
    "    nn.ReLU(),\n",
    "    nn.Dropout(0.2),\n",
    "    \n",
    "    nn.Linear(in_features=100, out_features=10),\n",
    "    nn.Sigmoid(),\n",
    "    nn.Dropout(0.1)\n",
    ")\n",
    "\n",
    "loss = nn.MSELoss()"
   ]
  },
  {
   "cell_type": "markdown",
   "metadata": {},
   "source": [
    "#### Задача 3\n",
    "\n",
    "Бинарная классификация изображений, на вход картинка RGB 100x100 пикселей"
   ]
  },
  {
   "cell_type": "code",
   "execution_count": 30,
   "metadata": {},
   "outputs": [],
   "source": [
    "model = nn.Sequential(\n",
    "    nn.Conv2d(in_channels=3, out_channels=32, kernel_size=(10, 10)),\n",
    "    nn.Softmax(),\n",
    "    nn.MaxPool2d((6, 6)),\n",
    "    nn.Conv2d(in_channels=32, out_channels=64, kernel_size=(10, 10)),\n",
    "    nn.Softmax(),\n",
    "    nn.MaxPool2d((6, 6)),\n",
    "    nn.Conv2d(in_channels=64, out_channels=128, kernel_size=(10, 10)),\n",
    "    nn.Softmax(),\n",
    "    nn.MaxPool2d((6, 6)),\n",
    "    \n",
    "    nn.Flatten(),\n",
    "    nn.Linear(in_features=128, out_features=256),\n",
    "    nn.Softmax(),\n",
    "    nn.Dropout(0.8),\n",
    "    nn.Linear(in_features=256, out_features=1)\n",
    ")\n",
    "\n",
    "loss = nn.BCEWithLogitsLoss()"
   ]
  },
  {
   "cell_type": "markdown",
   "metadata": {},
   "source": [
    "### MNIST\n",
    "\n",
    "Напишем свою сетку для решения задачи распознавания рукописных чисел\n",
    "\n",
    "Датасет содержит ч/б изображения размером 28x28 пикселей"
   ]
  },
  {
   "cell_type": "markdown",
   "metadata": {},
   "source": [
    "Также реализуем `early_stopping` и попробуем `lr_scheduler.ReduceLROnPlateau`"
   ]
  },
  {
   "cell_type": "code",
   "execution_count": 31,
   "metadata": {},
   "outputs": [],
   "source": [
    "class MNISTTrainer:    \n",
    "    def __init__(self, model, criterion, config, device='cuda'):\n",
    "        self._model = model\n",
    "        self._device = device\n",
    "        self._criterion = criterion\n",
    "        \n",
    "        self._model.to(self._device)\n",
    "        \n",
    "        self._epochs = config['epochs']\n",
    "        self._early_stopping = config['early_stopping']\n",
    "              \n",
    "        self._optimizer = torch.optim.Adam(self._model.parameters(), lr=config['lr'])\n",
    "        self._scheduler = torch.optim.lr_scheduler.ReduceLROnPlateau(\n",
    "            self._optimizer,\n",
    "            'min',\n",
    "            factor=config['lr_reduce_rate'],\n",
    "            patience=config['patience'],\n",
    "            verbose=True,\n",
    "        )\n",
    "        \n",
    "        self._best_loss = float('inf')\n",
    "        self._best_epoch = -1\n",
    "\n",
    "    def fit(self, train_loader, val_loader):\n",
    "        for epoch in range(self._epochs):\n",
    "            self._model.train()\n",
    "            train_loss, train_accuracy = self._run_epoch(epoch, train_loader, is_training=True)\n",
    "            print('Train. loss: {}, accuracy: {}'.format(train_loss, train_accuracy))\n",
    "            \n",
    "            self._model.eval()\n",
    "            val_loss, val_accuracy = self._run_epoch(epoch, val_loader, is_training=False)\n",
    "            print('Validation. loss: {}, accuracy: {}'.format(val_loss, val_accuracy))\n",
    "\n",
    "            self._scheduler.step(val_loss)\n",
    "           \n",
    "            if self._best_loss > val_loss:\n",
    "                self._best_loss = val_loss\n",
    "                self._best_epoch = epoch\n",
    "\n",
    "            if abs(self._best_epoch - epoch) > self._early_stopping:\n",
    "                print('Early stopping. Epoch {}. Best epoch: {}, best {}: {}'.format(epoch, self._best_epoch))\n",
    "                break\n",
    "    \n",
    "    def _run_epoch(self, epoch, loader, is_training):\n",
    "        loss = 0\n",
    "        correct = 0\n",
    "        if is_training:\n",
    "            pbar = tqdm.tqdm(enumerate(loader), total=len(loader), desc='Epoch {}'.format(epoch))\n",
    "        else:\n",
    "            pbar = enumerate(loader)\n",
    "        \n",
    "        for i, data in pbar:\n",
    "            batch_loss, batch_correct = self._step(data, is_training)\n",
    "            loss += batch_loss\n",
    "            correct += batch_correct\n",
    "        \n",
    "        if is_training:\n",
    "            pbar.close()\n",
    "\n",
    "        loss /= len(loader)\n",
    "        accuracy = correct / len(loader.dataset)\n",
    "\n",
    "        return loss, accuracy\n",
    "    \n",
    "    def _step(self, data, is_training=True):\n",
    "        metrics_values = {}\n",
    "        images = data[0].to(self._device)\n",
    "        y_true = data[1].to(self._device)\n",
    "\n",
    "        if is_training:\n",
    "            self._optimizer.zero_grad()\n",
    "\n",
    "        with torch.set_grad_enabled(is_training):\n",
    "            y_pred = self._model(images)\n",
    "            y_pred = y_pred.squeeze()\n",
    "            loss = self._criterion(y_pred, y_true)\n",
    "\n",
    "            if is_training:\n",
    "                loss.backward()\n",
    "                self._optimizer.step()\n",
    "            \n",
    "        probas = torch.softmax(y_pred, dim=0)\n",
    "        labels = probas.max(1)[1]\n",
    "        correct = calculate_correct(y_true=y_true, y_pred=labels)\n",
    "\n",
    "        return loss.item(), correct.item()"
   ]
  },
  {
   "cell_type": "code",
   "execution_count": 32,
   "metadata": {},
   "outputs": [],
   "source": [
    "class MNISTModel(nn.Module):\n",
    "    def __init__(self):\n",
    "        super(MNISTModel, self).__init__()\n",
    "        \n",
    "        self.relu = nn.ReLU()\n",
    "        self.max_pool = nn.MaxPool2d((2, 2))\n",
    "        self.avg_pool = nn.AdaptiveAvgPool2d((1, 1))\n",
    "        \n",
    "        self.conv1 = nn.Conv2d(in_channels=1, out_channels=32, kernel_size=(3, 3))\n",
    "        self.conv2 = nn.Conv2d(in_channels=32, out_channels=64, kernel_size=(3, 3))\n",
    "        self.conv3 = nn.Conv2d(in_channels=64, out_channels=128, kernel_size=(3, 3))\n",
    "        self.drop = nn.Dropout2d(p=0.5)\n",
    "\n",
    "        self.classifier = nn.Linear(in_features=128, out_features=10)\n",
    "        \n",
    "    def forward(self, x):\n",
    "        x = self.conv1(x)\n",
    "        x = self.relu(x)\n",
    "        x = self.max_pool(x)\n",
    "        \n",
    "        x = self.conv2(x)\n",
    "        x = self.relu(x)\n",
    "        x = self.max_pool(x)\n",
    "\n",
    "        x = self.conv3(x)\n",
    "        x = self.relu(x)\n",
    "        x = self.avg_pool(x)\n",
    "        x = x.view(x.size(0), -1)\n",
    "        x = self.drop(x)\n",
    "    \n",
    "        x = self.classifier(x)\n",
    "\n",
    "        return x"
   ]
  },
  {
   "cell_type": "code",
   "execution_count": 33,
   "metadata": {},
   "outputs": [],
   "source": [
    "model = MNISTModel()"
   ]
  },
  {
   "cell_type": "code",
   "execution_count": 34,
   "metadata": {},
   "outputs": [],
   "source": [
    "batch_size = 64\n",
    "num_workers = 0\n",
    "\n",
    "\n",
    "train_transform = torchvision.transforms.Compose([\n",
    "    torchvision.transforms.RandomRotation(degrees=(-10, 10)),\n",
    "    torchvision.transforms.ToTensor(),\n",
    "])\n",
    "\n",
    "train_dataset = torchvision.datasets.MNIST(root='data', train=True, download=False, transform=train_transform)\n",
    "train_loader = torch.utils.data.DataLoader(train_dataset, batch_size, shuffle=True, num_workers=num_workers)\n",
    "\n",
    "val_transform = torchvision.transforms.Compose([\n",
    "    torchvision.transforms.ToTensor(),\n",
    "])\n",
    "val_dataset = torchvision.datasets.MNIST(root='data', train=False, download=False, transform=val_transform)\n",
    "val_loader = torch.utils.data.DataLoader(val_dataset, batch_size, shuffle=False, num_workers=num_workers)"
   ]
  },
  {
   "cell_type": "code",
   "execution_count": 35,
   "metadata": {},
   "outputs": [
    {
     "name": "stderr",
     "output_type": "stream",
     "text": [
      "Epoch 0: 100%|██████████| 938/938 [00:09<00:00, 102.76it/s]\n"
     ]
    },
    {
     "name": "stdout",
     "output_type": "stream",
     "text": [
      "Train. loss: 0.6038942220114442, accuracy: 0.6787833333333333\n"
     ]
    },
    {
     "name": "stderr",
     "output_type": "stream",
     "text": [
      "Epoch 1:   1%|          | 11/938 [00:00<00:09, 100.89it/s]"
     ]
    },
    {
     "name": "stdout",
     "output_type": "stream",
     "text": [
      "Validation. loss: 0.11715370245799897, accuracy: 0.9324\n"
     ]
    },
    {
     "name": "stderr",
     "output_type": "stream",
     "text": [
      "Epoch 1: 100%|██████████| 938/938 [00:09<00:00, 104.06it/s]\n"
     ]
    },
    {
     "name": "stdout",
     "output_type": "stream",
     "text": [
      "Train. loss: 0.22034527461872552, accuracy: 0.7926333333333333\n"
     ]
    },
    {
     "name": "stderr",
     "output_type": "stream",
     "text": [
      "Epoch 2:   1%|          | 10/938 [00:00<00:09, 96.20it/s]"
     ]
    },
    {
     "name": "stdout",
     "output_type": "stream",
     "text": [
      "Validation. loss: 0.07229494674807521, accuracy: 0.9464\n"
     ]
    },
    {
     "name": "stderr",
     "output_type": "stream",
     "text": [
      "Epoch 2: 100%|██████████| 938/938 [00:09<00:00, 103.55it/s]\n"
     ]
    },
    {
     "name": "stdout",
     "output_type": "stream",
     "text": [
      "Train. loss: 0.16363927040463572, accuracy: 0.8077333333333333\n"
     ]
    },
    {
     "name": "stderr",
     "output_type": "stream",
     "text": [
      "Epoch 3:   1%|          | 9/938 [00:00<00:10, 85.35it/s]"
     ]
    },
    {
     "name": "stdout",
     "output_type": "stream",
     "text": [
      "Validation. loss: 0.0697298247106136, accuracy: 0.946\n"
     ]
    },
    {
     "name": "stderr",
     "output_type": "stream",
     "text": [
      "Epoch 3: 100%|██████████| 938/938 [00:09<00:00, 103.91it/s]\n"
     ]
    },
    {
     "name": "stdout",
     "output_type": "stream",
     "text": [
      "Train. loss: 0.13992996331550547, accuracy: 0.8283666666666667\n"
     ]
    },
    {
     "name": "stderr",
     "output_type": "stream",
     "text": [
      "Epoch 4:   1%|          | 9/938 [00:00<00:10, 85.98it/s]"
     ]
    },
    {
     "name": "stdout",
     "output_type": "stream",
     "text": [
      "Validation. loss: 0.04463760503775375, accuracy: 0.9591\n"
     ]
    },
    {
     "name": "stderr",
     "output_type": "stream",
     "text": [
      "Epoch 4: 100%|██████████| 938/938 [00:09<00:00, 104.00it/s]\n"
     ]
    },
    {
     "name": "stdout",
     "output_type": "stream",
     "text": [
      "Train. loss: 0.11489867783193268, accuracy: 0.8428833333333333\n"
     ]
    },
    {
     "name": "stderr",
     "output_type": "stream",
     "text": [
      "Epoch 5:   1%|          | 11/938 [00:00<00:09, 102.11it/s]"
     ]
    },
    {
     "name": "stdout",
     "output_type": "stream",
     "text": [
      "Validation. loss: 0.043123202434011326, accuracy: 0.9648\n"
     ]
    },
    {
     "name": "stderr",
     "output_type": "stream",
     "text": [
      "Epoch 5: 100%|██████████| 938/938 [00:08<00:00, 104.42it/s]\n"
     ]
    },
    {
     "name": "stdout",
     "output_type": "stream",
     "text": [
      "Train. loss: 0.10441793640579052, accuracy: 0.8527333333333333\n"
     ]
    },
    {
     "name": "stderr",
     "output_type": "stream",
     "text": [
      "Epoch 6:   1%|          | 9/938 [00:00<00:11, 83.94it/s]"
     ]
    },
    {
     "name": "stdout",
     "output_type": "stream",
     "text": [
      "Validation. loss: 0.03670121271424233, accuracy: 0.9671\n"
     ]
    },
    {
     "name": "stderr",
     "output_type": "stream",
     "text": [
      "Epoch 6: 100%|██████████| 938/938 [00:08<00:00, 104.73it/s]\n"
     ]
    },
    {
     "name": "stdout",
     "output_type": "stream",
     "text": [
      "Train. loss: 0.09541477648013119, accuracy: 0.8601833333333333\n"
     ]
    },
    {
     "name": "stderr",
     "output_type": "stream",
     "text": [
      "Epoch 7:   1%|          | 11/938 [00:00<00:08, 104.12it/s]"
     ]
    },
    {
     "name": "stdout",
     "output_type": "stream",
     "text": [
      "Validation. loss: 0.03387350055157758, accuracy: 0.9728\n"
     ]
    },
    {
     "name": "stderr",
     "output_type": "stream",
     "text": [
      "Epoch 7: 100%|██████████| 938/938 [00:09<00:00, 103.91it/s]\n"
     ]
    },
    {
     "name": "stdout",
     "output_type": "stream",
     "text": [
      "Train. loss: 0.0881238277934031, accuracy: 0.8653666666666666\n"
     ]
    },
    {
     "name": "stderr",
     "output_type": "stream",
     "text": [
      "Epoch 8:   1%|          | 9/938 [00:00<00:10, 89.29it/s]"
     ]
    },
    {
     "name": "stdout",
     "output_type": "stream",
     "text": [
      "Validation. loss: 0.032863025227264996, accuracy: 0.9761\n"
     ]
    },
    {
     "name": "stderr",
     "output_type": "stream",
     "text": [
      "Epoch 8: 100%|██████████| 938/938 [00:09<00:00, 104.20it/s]\n"
     ]
    },
    {
     "name": "stdout",
     "output_type": "stream",
     "text": [
      "Train. loss: 0.08154705729780358, accuracy: 0.8716166666666667\n"
     ]
    },
    {
     "name": "stderr",
     "output_type": "stream",
     "text": [
      "Epoch 9:   1%|          | 8/938 [00:00<00:12, 77.39it/s]"
     ]
    },
    {
     "name": "stdout",
     "output_type": "stream",
     "text": [
      "Validation. loss: 0.03211857551696953, accuracy: 0.9708\n"
     ]
    },
    {
     "name": "stderr",
     "output_type": "stream",
     "text": [
      "Epoch 9: 100%|██████████| 938/938 [00:10<00:00, 89.46it/s]\n"
     ]
    },
    {
     "name": "stdout",
     "output_type": "stream",
     "text": [
      "Train. loss: 0.07607442611999223, accuracy: 0.8775833333333334\n",
      "Validation. loss: 0.030063325616347183, accuracy: 0.9765\n"
     ]
    }
   ],
   "source": [
    "config = {\n",
    "    'lr': 1e-3,\n",
    "    'epochs': 10,\n",
    "    'early_stopping': 5,\n",
    "    'lr_reduce_rate': 0.5,\n",
    "    'patience': 3\n",
    "}\n",
    "\n",
    "trainer = MNISTTrainer(model, nn.CrossEntropyLoss(), config, device='cuda')\n",
    "trainer.fit(train_loader, val_loader)"
   ]
  }
 ],
 "metadata": {
  "kernelspec": {
   "display_name": "Python 3",
   "language": "python",
   "name": "python3"
  },
  "language_info": {
   "codemirror_mode": {
    "name": "ipython",
    "version": 3
   },
   "file_extension": ".py",
   "mimetype": "text/x-python",
   "name": "python",
   "nbconvert_exporter": "python",
   "pygments_lexer": "ipython3",
   "version": "3.6.3"
  }
 },
 "nbformat": 4,
 "nbformat_minor": 2
}
